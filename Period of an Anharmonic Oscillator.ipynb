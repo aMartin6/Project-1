{
 "cells": [
  {
   "cell_type": "markdown",
   "metadata": {},
   "source": [
    "# The Period of an Anharmonic Oscillator"
   ]
  },
  {
   "cell_type": "markdown",
   "metadata": {},
   "source": [
    "### Part a) calcualting the formula for the period"
   ]
  },
  {
   "cell_type": "markdown",
   "metadata": {},
   "source": [
    "\\begin{equation*}\n",
    "E = \\frac{1}{2}m\\big(\\frac{dx}{dt}\\big)^2 + V(x)\n",
    "\\end{equation*}\n",
    "\n",
    "\\begin{equation*}\n",
    "E - V(x) = \\frac{1}{2}m\\big(\\frac{dx}{dt}\\big)^2\n",
    "\\end{equation*}\n",
    "\n",
    "\\begin{equation*}\n",
    "\\frac{2(E - V(x))}{m} = \\big(\\frac{dx}{dt}\\big)^2\n",
    "\\end{equation*}\n",
    "\n",
    "\\begin{equation*}\n",
    "\\frac{dx}{dt} = \\int_{0}^{\\frac{t}{4}}\n",
    "\\end{equation*}"
   ]
  },
  {
   "cell_type": "markdown",
   "metadata": {},
   "source": [
    "### Part b) exampe of calculating period"
   ]
  },
  {
   "cell_type": "code",
   "execution_count": null,
   "metadata": {
    "collapsed": true
   },
   "outputs": [],
   "source": [
    "import math\n",
    "from gaussxw import gaussxwab\n",
    "\n",
    "def periodCalculation (Vofx, mass, amplitude, N):\n",
    "    \n",
    "    period = sqrt(8 * mass) * integral"
   ]
  }
 ],
 "metadata": {
  "kernelspec": {
   "display_name": "Python 3",
   "language": "python",
   "name": "python3"
  },
  "language_info": {
   "codemirror_mode": {
    "name": "ipython",
    "version": 3
   },
   "file_extension": ".py",
   "mimetype": "text/x-python",
   "name": "python",
   "nbconvert_exporter": "python",
   "pygments_lexer": "ipython3",
   "version": "3.4.5"
  }
 },
 "nbformat": 4,
 "nbformat_minor": 2
}
