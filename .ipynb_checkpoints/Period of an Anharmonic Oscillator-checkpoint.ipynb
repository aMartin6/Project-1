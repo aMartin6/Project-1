{
 "cells": [
  {
   "cell_type": "markdown",
   "metadata": {},
   "source": [
    "# The Period of an Anharmonic Oscillator"
   ]
  },
  {
   "cell_type": "markdown",
   "metadata": {},
   "source": [
    "### Part a) calcualting the formula for the period"
   ]
  },
  {
   "cell_type": "markdown",
   "metadata": {},
   "source": [
    "\\begin{equation*}\n",
    "E = \\frac{1}{2}m\\big(\\frac{dx}{dt}\\big)^2 + V(x)\n",
    "\\end{equation*}\n",
    "\n",
    "\\begin{equation*}\n",
    "E - V(x) = \\frac{1}{2}m\\big(\\frac{dx}{dt}\\big)^2\n",
    "\\end{equation*}\n",
    "\n",
    "\\begin{equation*}\n",
    "\\frac{2(E - V(x))}{m} = \\big(\\frac{dx}{dt}\\big)^2\n",
    "\\end{equation*}\n",
    "\n",
    "\\begin{equation*}\n",
    "\\frac{dx}{dt} = \\sqrt{\\frac{2(E - V(x))}{m}}\n",
    "\\end{equation*}\n",
    "\n",
    "\\begin{equation*}\n",
    "x = \\int_{0}^{\\frac{T}{4}}\\sqrt{\\frac{2(E - V(x))}{m}}dt\n",
    "\\end{equation*}\n",
    "\n",
    "\\begin{equation*}\n",
    "x = \\sqrt{\\frac{2(E - V(x))}{m}} \\frac{T}{4}\n",
    "\\end{equation*}\n",
    "\n",
    "\\begin{equation*}\n",
    "T = \\frac{4 \\sqrt{m} x}{\\sqrt{2(E-V(x))}}\n",
    "\\end{equation*}\n",
    "\n",
    "\\begin{equation*}\n",
    "T = \\sqrt{8m}\\frac{x}{\\sqrt{E-V(x)}}\n",
    "\\end{equation*}\n",
    "\n",
    "$since \\space E = V(a)$\n",
    "\n",
    "\\begin{equation*}\n",
    "T = \\sqrt{8m}\\int_{0}^{a}\\frac{dx}{\\sqrt{V(a)-V(x)}}\n",
    "\\end{equation*}\n"
   ]
  },
  {
   "cell_type": "markdown",
   "metadata": {},
   "source": [
    "### Part b) exampe of calculating period"
   ]
  },
  {
   "cell_type": "code",
   "execution_count": 27,
   "metadata": {},
   "outputs": [],
   "source": [
    "%matplotlib inline\n",
    "import math\n",
    "import numpy as np\n",
    "import pylab as plt\n",
    "from romberg import romberg\n",
    "\n",
    "def V (x):\n",
    "    \"\"\"Returns the potnential at a given x position\n",
    "    \n",
    "    Arguements: x - distnace from the center\n",
    "    \n",
    "    Returned: x^4 - the potential funciton\"\"\"\n",
    "    \n",
    "    return x**4\n",
    "\n",
    "def integrationFunc (x):\n",
    "    \"\"\"Returns the function to be integrated\n",
    "    \n",
    "    Arguements: x - distnace from the center\n",
    "    \n",
    "    Returned: the function that is integrated in the period calcualtion\"\"\"\n",
    "    \n",
    "    return 1 / math.sqrt(V(amplitude)-V(x))\n",
    "    \n",
    "def periodCalculation (Vofx, mass, amplitude, tolerance):\n",
    "    \"\"\"Returns the period of the oscillator given an amplitude\n",
    "    \n",
    "    Arguements: Vofx - potential function\n",
    "                mass - mass of the particle\n",
    "                amplitude - amplitude of particle's oscillation\n",
    "                tolerance - accuracy of integration\n",
    "    \n",
    "    Returned: period - the period of oscillation\"\"\"\n",
    "    \n",
    "    period = math.sqrt(8 * mass) * romberg(Vofx,(0,amplitude-1e-6),tolerance)\n",
    "    \n",
    "    return period\n",
    "            "
   ]
  },
  {
   "cell_type": "code",
   "execution_count": 35,
   "metadata": {},
   "outputs": [
    {
     "data": {
      "text/plain": [
       "[<matplotlib.lines.Line2D at 0x1b79803a898>]"
      ]
     },
     "execution_count": 35,
     "metadata": {},
     "output_type": "execute_result"
    },
    {
     "data": {
      "image/png": "[encoded data removed]",
      "text/plain": [
       "<matplotlib.figure.Figure at 0x1b79803a828>"
      ]
     },
     "metadata": {},
     "output_type": "display_data"
    }
   ],
   "source": [
    "periods = []\n",
    "amplitudes = []\n",
    "\n",
    "# Creates period and amplitude arrays\n",
    "for a in np.linspace (0.05,2,100): # Starts at 0.05 because the function approaches infinity as a -> 0\n",
    "    amplitude = a\n",
    "    periods.append(periodCalculation (integrationFunc, 1, a, 1e10))\n",
    "    amplitudes.append(a)\n",
    "\n",
    "plt.title(\"Period vs Amplitude of Anharmonic Oscillation\")    \n",
    "plt.xlabel(\"Amplitude of Oscillation\")\n",
    "plt.ylabel(\"Period of Oscillation\")\n",
    "plt.plot(amplitudes, periods)"
   ]
  },
  {
   "cell_type": "markdown",
   "metadata": {},
   "source": [
    "### Part c) explaining the results"
   ]
  },
  {
   "cell_type": "markdown",
   "metadata": {},
   "source": [
    "From the above plot, we can see that the period increases as amplitude approaches zero, and approaches zero as the amplitude increases. This is because the potential at position x is equal to $x^4$. In a regular harmonic oscillator, the potential function is $x^2$, and the period is not affected by the amplitude. Compared to a harmonic potential well, a well that follows an $x^4$ pattern has a smaller slope as x approaches zero, and a larger slope when x is greater than one. This makes it so that when x is small, the change in potential is small, so one period will take longer. And when x is large, the change in potential is large, so one period will take less time. "
   ]
  },
  {
   "cell_type": "code",
   "execution_count": null,
   "metadata": {
    "collapsed": true
   },
   "outputs": [],
   "source": []
  }
 ],
 "metadata": {
  "kernelspec": {
   "display_name": "Python 3",
   "language": "python",
   "name": "python3"
  },
  "language_info": {
   "codemirror_mode": {
    "name": "ipython",
    "version": 3
   },
   "file_extension": ".py",
   "mimetype": "text/x-python",
   "name": "python",
   "nbconvert_exporter": "python",
   "pygments_lexer": "ipython3",
   "version": "3.6.3"
  }
 },
 "nbformat": 4,
 "nbformat_minor": 2
}
